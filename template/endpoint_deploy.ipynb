{
 "cells": [
  {
   "cell_type": "markdown",
   "source": [
    "### 1.  Set up the environment"
   ],
   "metadata": {}
  },
  {
   "cell_type": "code",
   "execution_count": 1,
   "source": [
    "# after docker image has been built, setup environment (define s3 bucket and prefix where model artificats that will be invokable by endpoint are located)\r\n",
    "\r\n",
    "import boto3\r\n",
    "from sagemaker import get_execution_role\r\n",
    "from time import gmtime, strftime\r\n",
    "\r\n",
    "sm_client = boto3.client(service_name=\"sagemaker\")\r\n",
    "runtime_sm_client = boto3.client(service_name=\"sagemaker-runtime\")\r\n",
    "\r\n",
    "account_id = boto3.client(\"sts\").get_caller_identity()[\"Account\"]\r\n",
    "region = boto3.Session().region_name\r\n",
    "\r\n",
    "bucket = \"sagemaker-{}-{}\".format(region, account_id)\r\n",
    "prefix = \"demo-template-model-store\"\r\n",
    "# Container's ModelDataUrl; S3 URL to All the model artifacts\r\n",
    "model_url = \"https://s3-{}.amazonaws.com/{}/{}/\".format(region, bucket, prefix) \r\n",
    "model_name = \"demo-templatemodel\" + strftime(\"%Y-%m-%d-%H-%M-%S\", gmtime()) # A namespace for all the model artifacts\r\n",
    "\r\n",
    "image_name = \"demo-sagemaker-template-bo-test\" # Inference image name in ECR\r\n",
    "image = \"{}.dkr.ecr.{}.amazonaws.com/{}:latest\".format(account_id, region, image_name) # Full address of the ECR image\r\n",
    "\r\n",
    "endpoint_config_name = \"demo-template-endpointconfig-\" + strftime(\"%Y-%m-%d-%H-%M-%S\", gmtime()) # The name of the endpoint config\r\n",
    "endpoint_name = \"demo-template-endpoint-\" + strftime(\"%Y-%m-%d-%H-%M-%S\", gmtime()) # The name of the endpoint\r\n",
    "\r\n",
    "endpoint_instance = \"ml.t2.medium\" # The instance type of the endpoint\r\n",
    "\r\n",
    "role = get_execution_role()"
   ],
   "outputs": [],
   "metadata": {}
  },
  {
   "cell_type": "markdown",
   "source": [
    "### 2. Upload model artifacts to S3\n",
    "Sagemaker required a model file, so we put a dummy model as a placeholder to s3. The file must be a `tar.gz` file."
   ],
   "metadata": {}
  },
  {
   "cell_type": "code",
   "execution_count": 2,
   "source": [
    "# Make a dummy file for the model\r\n",
    "import os\r\n",
    "import tarfile\r\n",
    "with open(\"model.txt\", \"w\") as f:\r\n",
    "    f.write(\"I'm model 1.\")\r\n",
    "\r\n",
    "with tarfile.open(\"model1.tar.gz\",\"w:gz\") as tar:\r\n",
    "    for file in [\"model.txt\"]:\r\n",
    "        tar.add(os.path.basename(file))\r\n",
    "\r\n",
    "os.remove(\"model.txt\")\r\n",
    "\r\n",
    "with open(\"model.txt\", \"w\") as f:\r\n",
    "    f.write(\"I'm model 2.\")\r\n",
    "\r\n",
    "with tarfile.open(\"model2.tar.gz\",\"w:gz\") as tar:\r\n",
    "    for file in [\"model.txt\"]:\r\n",
    "        tar.add(os.path.basename(file))\r\n",
    "        \r\n",
    "os.remove(\"model.txt\")\r\n",
    "        \r\n",
    "s3_client = boto3.client('s3')\r\n",
    "s3_client.upload_file(\"model1.tar.gz\", bucket, f\"{prefix}/model1.tar.gz\")\r\n",
    "s3_client.upload_file(\"model2.tar.gz\", bucket, f\"{prefix}/model2.tar.gz\")"
   ],
   "outputs": [],
   "metadata": {}
  },
  {
   "cell_type": "markdown",
   "source": [
    "### 3. Import models into hosting"
   ],
   "metadata": {}
  },
  {
   "cell_type": "code",
   "execution_count": 3,
   "source": [
    "# Import models into hosting\r\n",
    "container = {\"Image\": image, \"ModelDataUrl\": model_url, \"Mode\": \"MultiModel\"}\r\n",
    "\r\n",
    "create_model_response = sm_client.create_model(\r\n",
    "    ModelName=model_name, ExecutionRoleArn=role, Containers=[container]\r\n",
    ")\r\n",
    "\r\n",
    "print(\"Model Arn: \" + create_model_response[\"ModelArn\"])"
   ],
   "outputs": [
    {
     "output_type": "stream",
     "name": "stdout",
     "text": [
      "Model Arn: arn:aws:sagemaker:us-east-1:318775028588:model/demo-lexrankmodel2021-07-15-04-12-10\n"
     ]
    }
   ],
   "metadata": {}
  },
  {
   "cell_type": "markdown",
   "source": [
    "### 4. Create endpoint configuration"
   ],
   "metadata": {}
  },
  {
   "cell_type": "code",
   "execution_count": 5,
   "source": [
    "create_endpoint_config_response = sm_client.create_endpoint_config(\r\n",
    "    EndpointConfigName=endpoint_config_name,\r\n",
    "    ProductionVariants=[\r\n",
    "        {\r\n",
    "            \"InstanceType\": endpoint_instance,\r\n",
    "            \"InitialInstanceCount\": 1,\r\n",
    "            \"ModelName\": model_name,\r\n",
    "            \"VariantName\": \"AllTraffic\",\r\n",
    "        }\r\n",
    "    ],\r\n",
    ")\r\n",
    "\r\n",
    "print(\"Endpoint config Arn: \" + create_endpoint_config_response[\"EndpointConfigArn\"])"
   ],
   "outputs": [
    {
     "output_type": "stream",
     "name": "stdout",
     "text": [
      "Endpoint config Arn: arn:aws:sagemaker:us-east-1:318775028588:endpoint-config/demo-lexrank-endpointconfig-2021-07-15-04-12-10\n"
     ]
    }
   ],
   "metadata": {}
  },
  {
   "cell_type": "markdown",
   "source": [
    "### 5.Create endpoint"
   ],
   "metadata": {}
  },
  {
   "cell_type": "code",
   "execution_count": 6,
   "source": [
    "%%time\r\n",
    "create_endpoint_response = sm_client.create_endpoint(\r\n",
    "    EndpointName=endpoint_name, EndpointConfigName=endpoint_config_name\r\n",
    ")\r\n",
    "print(\"Endpoint Arn: \" + create_endpoint_response[\"EndpointArn\"])\r\n",
    "\r\n",
    "resp = sm_client.describe_endpoint(EndpointName=endpoint_name)\r\n",
    "status = resp[\"EndpointStatus\"]\r\n",
    "print(\"Endpoint Status: \" + status)\r\n",
    "\r\n",
    "print(\"Waiting for {} endpoint to be in service...\".format(endpoint_name))\r\n",
    "waiter = sm_client.get_waiter(\"endpoint_in_service\")\r\n",
    "waiter.wait(EndpointName=endpoint_name)\r\n",
    "print(\"Done\")"
   ],
   "outputs": [
    {
     "output_type": "stream",
     "name": "stdout",
     "text": [
      "Endpoint Arn: arn:aws:sagemaker:us-east-1:318775028588:endpoint/demo-lexrank-endpoint-2021-07-15-04-12-10\n",
      "Endpoint Status: Creating\n",
      "Waiting for demo-lexrank-endpoint-2021-07-15-04-12-10 endpoint to be in service...\n",
      "Done\n",
      "CPU times: user 312 ms, sys: 24.1 ms, total: 337 ms\n",
      "Wall time: 11min 32s\n"
     ]
    }
   ],
   "metadata": {}
  },
  {
   "cell_type": "markdown",
   "source": [
    "### 6. Run inference"
   ],
   "metadata": {}
  },
  {
   "cell_type": "code",
   "execution_count": 11,
   "source": [
    "# invoke the models that we uploaded to S3 previously\r\n",
    "# Inference with model1\r\n",
    "import json\r\n",
    "data = {\r\n",
    "    \"text\":\"Hello world! I like pizza! How about you?\",\r\n",
    "    \"n_sent\":1\r\n",
    "}\r\n",
    "\r\n",
    "payload = json.dumps(data)\r\n",
    "\r\n",
    "response = runtime_sm_client.invoke_endpoint(\r\n",
    "    EndpointName=endpoint_name,\r\n",
    "    ContentType=\"application/json\",\r\n",
    "    TargetModel=\"model1.tar.gz\",  # this is the rest of the S3 path where the model artifacts are located\r\n",
    "    Body=payload,\r\n",
    ")\r\n",
    "\r\n",
    "response[\"Body\"].read()\r\n"
   ],
   "outputs": [],
   "metadata": {}
  },
  {
   "cell_type": "code",
   "execution_count": null,
   "source": [
    "# Inference with model2\r\n",
    "response = runtime_sm_client.invoke_endpoint(\r\n",
    "    EndpointName=endpoint_name,\r\n",
    "    ContentType=\"application/json\",\r\n",
    "    TargetModel=\"model2.tar.gz\",  # this is the rest of the S3 path where the model artifacts are located\r\n",
    "    Body=payload,\r\n",
    ")\r\n",
    "\r\n",
    "response[\"Body\"].read()"
   ],
   "outputs": [],
   "metadata": {}
  }
 ],
 "metadata": {
  "kernelspec": {
   "display_name": "conda_python3",
   "language": "python",
   "name": "conda_python3"
  },
  "language_info": {
   "codemirror_mode": {
    "name": "ipython",
    "version": 3
   },
   "file_extension": ".py",
   "mimetype": "text/x-python",
   "name": "python",
   "nbconvert_exporter": "python",
   "pygments_lexer": "ipython3",
   "version": "3.6.13"
  }
 },
 "nbformat": 4,
 "nbformat_minor": 5
}