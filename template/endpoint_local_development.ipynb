{
 "cells": [
  {
   "cell_type": "markdown",
   "source": [
    "# Note\n",
    "The Sagemaker `local` mode works slightly differently with the one which live on cloud. Especially the `load_model` function may have to be implemented differently."
   ],
   "metadata": {}
  },
  {
   "cell_type": "markdown",
   "source": [
    "## 0. Prepare"
   ],
   "metadata": {}
  },
  {
   "cell_type": "code",
   "execution_count": null,
   "source": [
    "from sagemaker.local import LocalSession\n",
    "\n",
    "sagemaker_session = LocalSession()\n",
    "sagemaker_session.config = {'local': {'local_code': True}}"
   ],
   "outputs": [],
   "metadata": {}
  },
  {
   "cell_type": "code",
   "execution_count": 2,
   "source": [
    "# Make a dummy file for the model\n",
    "import os\n",
    "import tarfile\n",
    "with open(\"model.txt\", \"w\") as f:\n",
    "    f.write(\"I'm model 1.\")\n",
    "\n",
    "with tarfile.open(\"model1.tar.gz\",\"w:gz\") as tar:\n",
    "    for file in [\"model.txt\"]:\n",
    "        tar.add(os.path.basename(file))\n",
    "\n",
    "os.remove(\"model.txt\")"
   ],
   "outputs": [],
   "metadata": {}
  },
  {
   "cell_type": "code",
   "execution_count": 3,
   "source": [
    "import sagemaker\n",
    "model1 = sagemaker.model.Model(\n",
    "    image_uri=\"demo-sagemaker-template-bo-test:latest\", # The built image on your local machine\n",
    "    model_data=\"file://model1.tar.gz\",\n",
    "    sagemaker_session=sagemaker_session,\n",
    "    role='arn:aws:iam::318775028588:role/sagemaker_Prototype'\n",
    ")"
   ],
   "outputs": [],
   "metadata": {}
  },
  {
   "cell_type": "markdown",
   "source": [
    "## 1. Deploy "
   ],
   "metadata": {}
  },
  {
   "cell_type": "code",
   "execution_count": 4,
   "source": [
    "from sagemaker.predictor import Predictor\n",
    "model1.deploy(initial_instance_count=1, instance_type=\"local\", predictor_cls=Predictor)"
   ],
   "outputs": [
    {
     "output_type": "stream",
     "name": "stdout",
     "text": [
      "Attaching to 9okx4z1i9f-algo-1-tr7h2\n",
      "\u001b[36m9okx4z1i9f-algo-1-tr7h2 |\u001b[0m Warning: MMS is using non-default JVM parameters: -XX:-UseContainerSupport\n",
      "\u001b[36m9okx4z1i9f-algo-1-tr7h2 |\u001b[0m 2021-08-02 18:35:37,748 [INFO ] main com.amazonaws.ml.mms.ModelServer - \n",
      "\u001b[36m9okx4z1i9f-algo-1-tr7h2 |\u001b[0m MMS Home: /usr/local/lib/python3.6/dist-packages\n",
      "\u001b[36m9okx4z1i9f-algo-1-tr7h2 |\u001b[0m Current directory: /\n",
      "\u001b[36m9okx4z1i9f-algo-1-tr7h2 |\u001b[0m Temp directory: /tmp\n",
      "\u001b[36m9okx4z1i9f-algo-1-tr7h2 |\u001b[0m Number of GPUs: 0\n",
      "\u001b[36m9okx4z1i9f-algo-1-tr7h2 |\u001b[0m Number of CPUs: 12\n",
      "\u001b[36m9okx4z1i9f-algo-1-tr7h2 |\u001b[0m Max heap size: 5346 M\n",
      "\u001b[36m9okx4z1i9f-algo-1-tr7h2 |\u001b[0m Python executable: /usr/bin/python3\n",
      "\u001b[36m9okx4z1i9f-algo-1-tr7h2 |\u001b[0m Config file: /etc/sagemaker-mms.properties\n",
      "\u001b[36m9okx4z1i9f-algo-1-tr7h2 |\u001b[0m Inference address: http://0.0.0.0:8080\n",
      "\u001b[36m9okx4z1i9f-algo-1-tr7h2 |\u001b[0m Management address: http://0.0.0.0:8080\n",
      "\u001b[36m9okx4z1i9f-algo-1-tr7h2 |\u001b[0m Model Store: /.sagemaker/mms/models\n",
      "\u001b[36m9okx4z1i9f-algo-1-tr7h2 |\u001b[0m Initial Models: ALL\n",
      "\u001b[36m9okx4z1i9f-algo-1-tr7h2 |\u001b[0m Log dir: /logs\n",
      "\u001b[36m9okx4z1i9f-algo-1-tr7h2 |\u001b[0m Metrics dir: /logs\n",
      "\u001b[36m9okx4z1i9f-algo-1-tr7h2 |\u001b[0m Netty threads: 0\n",
      "\u001b[36m9okx4z1i9f-algo-1-tr7h2 |\u001b[0m Netty client threads: 0\n",
      "\u001b[36m9okx4z1i9f-algo-1-tr7h2 |\u001b[0m Default workers per model: 12\n",
      "\u001b[36m9okx4z1i9f-algo-1-tr7h2 |\u001b[0m Blacklist Regex: N/A\n",
      "\u001b[36m9okx4z1i9f-algo-1-tr7h2 |\u001b[0m Maximum Response Size: 6553500\n",
      "\u001b[36m9okx4z1i9f-algo-1-tr7h2 |\u001b[0m Maximum Request Size: 6553500\n",
      "\u001b[36m9okx4z1i9f-algo-1-tr7h2 |\u001b[0m Preload model: false\n",
      "\u001b[36m9okx4z1i9f-algo-1-tr7h2 |\u001b[0m Prefer direct buffer: false\n",
      "\u001b[36m9okx4z1i9f-algo-1-tr7h2 |\u001b[0m 2021-08-02 18:35:37,805 [WARN ] W-9000-model com.amazonaws.ml.mms.wlm.WorkerLifeCycle - attachIOStreams() threadName=W-9000-model\n",
      "\u001b[36m9okx4z1i9f-algo-1-tr7h2 |\u001b[0m 2021-08-02 18:35:37,868 [INFO ] W-9000-model-stdout com.amazonaws.ml.mms.wlm.WorkerLifeCycle - model_service_worker started with args: --sock-type unix --sock-name /tmp/.mms.sock.9000 --handler /home/model-server/model_handler.py:handle --model-path /.sagemaker/mms/models/model --model-name model --preload-model false --tmp-dir /tmp\n",
      "\u001b[36m9okx4z1i9f-algo-1-tr7h2 |\u001b[0m 2021-08-02 18:35:37,869 [INFO ] W-9000-model-stdout com.amazonaws.ml.mms.wlm.WorkerLifeCycle - Listening on port: /tmp/.mms.sock.9000\n",
      "\u001b[36m9okx4z1i9f-algo-1-tr7h2 |\u001b[0m 2021-08-02 18:35:37,869 [INFO ] W-9000-model-stdout com.amazonaws.ml.mms.wlm.WorkerLifeCycle - [PID] 43\n",
      "\u001b[36m9okx4z1i9f-algo-1-tr7h2 |\u001b[0m 2021-08-02 18:35:37,869 [INFO ] W-9000-model-stdout com.amazonaws.ml.mms.wlm.WorkerLifeCycle - MMS worker started.\n",
      "\u001b[36m9okx4z1i9f-algo-1-tr7h2 |\u001b[0m 2021-08-02 18:35:37,869 [INFO ] W-9000-model-stdout com.amazonaws.ml.mms.wlm.WorkerLifeCycle - Python runtime: 3.6.9\n",
      "\u001b[36m9okx4z1i9f-algo-1-tr7h2 |\u001b[0m 2021-08-02 18:35:37,870 [INFO ] main com.amazonaws.ml.mms.wlm.ModelManager - Model model loaded.\n",
      "\u001b[36m9okx4z1i9f-algo-1-tr7h2 |\u001b[0m 2021-08-02 18:35:37,880 [INFO ] main com.amazonaws.ml.mms.ModelServer - Initialize Inference server with: EpollServerSocketChannel.\n",
      "\u001b[36m9okx4z1i9f-algo-1-tr7h2 |\u001b[0m 2021-08-02 18:35:37,885 [INFO ] W-9000-model com.amazonaws.ml.mms.wlm.WorkerThread - Connecting to: /tmp/.mms.sock.9000\n",
      "\u001b[36m9okx4z1i9f-algo-1-tr7h2 |\u001b[0m 2021-08-02 18:35:37,885 [INFO ] W-9000-model com.amazonaws.ml.mms.wlm.WorkerThread - Connecting to: /tmp/.mms.sock.9000\n",
      "\u001b[36m9okx4z1i9f-algo-1-tr7h2 |\u001b[0m 2021-08-02 18:35:37,885 [INFO ] W-9000-model com.amazonaws.ml.mms.wlm.WorkerThread - Connecting to: /tmp/.mms.sock.9000\n",
      "\u001b[36m9okx4z1i9f-algo-1-tr7h2 |\u001b[0m 2021-08-02 18:35:37,885 [INFO ] W-9000-model com.amazonaws.ml.mms.wlm.WorkerThread - Connecting to: /tmp/.mms.sock.9000\n",
      "\u001b[36m9okx4z1i9f-algo-1-tr7h2 |\u001b[0m 2021-08-02 18:35:37,885 [INFO ] W-9000-model com.amazonaws.ml.mms.wlm.WorkerThread - Connecting to: /tmp/.mms.sock.9000\n",
      "\u001b[36m9okx4z1i9f-algo-1-tr7h2 |\u001b[0m 2021-08-02 18:35:37,885 [INFO ] W-9000-model com.amazonaws.ml.mms.wlm.WorkerThread - Connecting to: /tmp/.mms.sock.9000\n",
      "\u001b[36m9okx4z1i9f-algo-1-tr7h2 |\u001b[0m 2021-08-02 18:35:37,885 [INFO ] W-9000-model com.amazonaws.ml.mms.wlm.WorkerThread - Connecting to: /tmp/.mms.sock.9000\n",
      "\u001b[36m9okx4z1i9f-algo-1-tr7h2 |\u001b[0m 2021-08-02 18:35:37,885 [INFO ] W-9000-model com.amazonaws.ml.mms.wlm.WorkerThread - Connecting to: /tmp/.mms.sock.9000\n",
      "\u001b[36m9okx4z1i9f-algo-1-tr7h2 |\u001b[0m 2021-08-02 18:35:37,885 [INFO ] W-9000-model com.amazonaws.ml.mms.wlm.WorkerThread - Connecting to: /tmp/.mms.sock.9000\n",
      "\u001b[36m9okx4z1i9f-algo-1-tr7h2 |\u001b[0m 2021-08-02 18:35:37,885 [INFO ] W-9000-model com.amazonaws.ml.mms.wlm.WorkerThread - Connecting to: /tmp/.mms.sock.9000\n",
      "\u001b[36m9okx4z1i9f-algo-1-tr7h2 |\u001b[0m 2021-08-02 18:35:37,885 [INFO ] W-9000-model com.amazonaws.ml.mms.wlm.WorkerThread - Connecting to: /tmp/.mms.sock.9000\n",
      "\u001b[36m9okx4z1i9f-algo-1-tr7h2 |\u001b[0m 2021-08-02 18:35:37,885 [INFO ] W-9000-model com.amazonaws.ml.mms.wlm.WorkerThread - Connecting to: /tmp/.mms.sock.9000\n",
      "\u001b[36m9okx4z1i9f-algo-1-tr7h2 |\u001b[0m 2021-08-02 18:35:37,932 [INFO ] main com.amazonaws.ml.mms.ModelServer - Inference API bind to: http://0.0.0.0:8080\n",
      "\u001b[36m9okx4z1i9f-algo-1-tr7h2 |\u001b[0m 2021-08-02 18:35:37,933 [INFO ] W-9000-model-stdout com.amazonaws.ml.mms.wlm.WorkerLifeCycle - Connection accepted: /tmp/.mms.sock.9000.\n",
      "\u001b[36m9okx4z1i9f-algo-1-tr7h2 |\u001b[0m 2021-08-02 18:35:37,935 [INFO ] W-9000-model-stdout com.amazonaws.ml.mms.wlm.WorkerLifeCycle - Connection accepted: /tmp/.mms.sock.9000.\n",
      "\u001b[36m9okx4z1i9f-algo-1-tr7h2 |\u001b[0m Model server started.\n",
      "\u001b[36m9okx4z1i9f-algo-1-tr7h2 |\u001b[0m 2021-08-02 18:35:37,936 [INFO ] W-9000-model-stdout com.amazonaws.ml.mms.wlm.WorkerLifeCycle - Connection accepted: /tmp/.mms.sock.9000.\n",
      "\u001b[36m9okx4z1i9f-algo-1-tr7h2 |\u001b[0m 2021-08-02 18:35:37,937 [INFO ] W-9000-model-stdout com.amazonaws.ml.mms.wlm.WorkerLifeCycle - Connection accepted: /tmp/.mms.sock.9000.\n",
      "\u001b[36m9okx4z1i9f-algo-1-tr7h2 |\u001b[0m 2021-08-02 18:35:37,938 [INFO ] W-9000-model-stdout com.amazonaws.ml.mms.wlm.WorkerLifeCycle - Connection accepted: /tmp/.mms.sock.9000.\n",
      "\u001b[36m9okx4z1i9f-algo-1-tr7h2 |\u001b[0m 2021-08-02 18:35:37,938 [WARN ] pool-2-thread-1 com.amazonaws.ml.mms.metrics.MetricCollector - worker pid is not available yet.\n",
      "\u001b[36m9okx4z1i9f-algo-1-tr7h2 |\u001b[0m 2021-08-02 18:35:37,939 [INFO ] W-9000-model-stdout com.amazonaws.ml.mms.wlm.WorkerLifeCycle - Connection accepted: /tmp/.mms.sock.9000.\n",
      "\u001b[36m9okx4z1i9f-algo-1-tr7h2 |\u001b[0m 2021-08-02 18:35:37,940 [INFO ] W-9000-model-stdout com.amazonaws.ml.mms.wlm.WorkerLifeCycle - Connection accepted: /tmp/.mms.sock.9000.\n",
      "\u001b[36m9okx4z1i9f-algo-1-tr7h2 |\u001b[0m 2021-08-02 18:35:37,941 [INFO ] W-9000-model-stdout com.amazonaws.ml.mms.wlm.WorkerLifeCycle - Connection accepted: /tmp/.mms.sock.9000.\n",
      "\u001b[36m9okx4z1i9f-algo-1-tr7h2 |\u001b[0m 2021-08-02 18:35:37,942 [INFO ] W-9000-model-stdout com.amazonaws.ml.mms.wlm.WorkerLifeCycle - Connection accepted: /tmp/.mms.sock.9000.\n",
      "\u001b[36m9okx4z1i9f-algo-1-tr7h2 |\u001b[0m 2021-08-02 18:35:37,943 [INFO ] W-9000-model-stdout com.amazonaws.ml.mms.wlm.WorkerLifeCycle - Connection accepted: /tmp/.mms.sock.9000.\n",
      "\u001b[36m9okx4z1i9f-algo-1-tr7h2 |\u001b[0m 2021-08-02 18:35:37,944 [INFO ] W-9000-model-stdout com.amazonaws.ml.mms.wlm.WorkerLifeCycle - Connection accepted: /tmp/.mms.sock.9000.\n",
      "\u001b[36m9okx4z1i9f-algo-1-tr7h2 |\u001b[0m 2021-08-02 18:35:37,946 [INFO ] W-9000-model-stdout com.amazonaws.ml.mms.wlm.WorkerLifeCycle - Connection accepted: /tmp/.mms.sock.9000.\n",
      "\u001b[36m9okx4z1i9f-algo-1-tr7h2 |\u001b[0m 2021-08-02 18:35:38,027 [INFO ] W-9000-model-stdout com.amazonaws.ml.mms.wlm.WorkerLifeCycle - Hi I'm called once\n",
      "\u001b[36m9okx4z1i9f-algo-1-tr7h2 |\u001b[0m 2021-08-02 18:35:38,027 [INFO ] W-9000-model-stdout com.amazonaws.ml.mms.wlm.WorkerLifeCycle - Model model loaded io_fd=0242acfffe120002-00000013-00000000-5af9c22884c66022-40d0f22a\n",
      "\u001b[36m9okx4z1i9f-algo-1-tr7h2 |\u001b[0m 2021-08-02 18:35:38,027 [INFO ] W-9000-model-stdout com.amazonaws.ml.mms.wlm.WorkerLifeCycle - Hi I'm called once\n",
      "\u001b[36m9okx4z1i9f-algo-1-tr7h2 |\u001b[0m 2021-08-02 18:35:38,027 [INFO ] W-9000-model-stdout com.amazonaws.ml.mms.wlm.WorkerLifeCycle - Model model loaded io_fd=0242acfffe120002-00000013-0000000c-6e92d22884c66023-f97f49e6\n",
      "\u001b[36m9okx4z1i9f-algo-1-tr7h2 |\u001b[0m 2021-08-02 18:35:38,028 [INFO ] W-9000-model-stdout com.amazonaws.ml.mms.wlm.WorkerLifeCycle - Hi I'm called once\n",
      "\u001b[36m9okx4z1i9f-algo-1-tr7h2 |\u001b[0m 2021-08-02 18:35:38,028 [INFO ] W-9000-model-stdout com.amazonaws.ml.mms.wlm.WorkerLifeCycle - Model model loaded io_fd=0242acfffe120002-00000013-0000000b-47a0d22884c66022-33ed19a0\n",
      "\u001b[36m9okx4z1i9f-algo-1-tr7h2 |\u001b[0m 2021-08-02 18:35:38,028 [INFO ] W-9000-model-stdout com.amazonaws.ml.mms.wlm.WorkerLifeCycle - Hi I'm called once\n",
      "\u001b[36m9okx4z1i9f-algo-1-tr7h2 |\u001b[0m 2021-08-02 18:35:38,028 [INFO ] W-9000-model-stdout com.amazonaws.ml.mms.wlm.WorkerLifeCycle - Model model loaded io_fd=0242acfffe120002-00000013-00000002-5f15222884c66022-6ab77e14\n",
      "\u001b[36m9okx4z1i9f-algo-1-tr7h2 |\u001b[0m 2021-08-02 18:35:38,028 [INFO ] W-9000-model-stdout com.amazonaws.ml.mms.wlm.WorkerLifeCycle - Hi I'm called once\n",
      "\u001b[36m9okx4z1i9f-algo-1-tr7h2 |\u001b[0m 2021-08-02 18:35:38,029 [INFO ] W-9000-model-stdout com.amazonaws.ml.mms.wlm.WorkerLifeCycle - Model model loaded io_fd=0242acfffe120002-00000013-00000004-729fa22884c66022-95fd9a29\n",
      "\u001b[36m9okx4z1i9f-algo-1-tr7h2 |\u001b[0m 2021-08-02 18:35:38,029 [INFO ] W-9000-model-stdout com.amazonaws.ml.mms.wlm.WorkerLifeCycle - Hi I'm called once\n",
      "\u001b[36m9okx4z1i9f-algo-1-tr7h2 |\u001b[0m 2021-08-02 18:35:38,029 [INFO ] W-9000-model-stdout com.amazonaws.ml.mms.wlm.WorkerLifeCycle - Model model loaded io_fd=0242acfffe120002-00000013-00000008-4637122884c66022-e7652f08\n",
      "\u001b[36m9okx4z1i9f-algo-1-tr7h2 |\u001b[0m 2021-08-02 18:35:38,029 [INFO ] W-9000-model-stdout com.amazonaws.ml.mms.wlm.WorkerLifeCycle - Hi I'm called once\n",
      "\u001b[36m9okx4z1i9f-algo-1-tr7h2 |\u001b[0m 2021-08-02 18:35:38,029 [INFO ] W-9000-model-stdout com.amazonaws.ml.mms.wlm.WorkerLifeCycle - Model model loaded io_fd=0242acfffe120002-00000013-0000000a-7aca522884c66022-68188907\n",
      "\u001b[36m9okx4z1i9f-algo-1-tr7h2 |\u001b[0m 2021-08-02 18:35:38,029 [INFO ] W-9000-model-stdout com.amazonaws.ml.mms.wlm.WorkerLifeCycle - Hi I'm called once\n",
      "\u001b[36m9okx4z1i9f-algo-1-tr7h2 |\u001b[0m 2021-08-02 18:35:38,029 [INFO ] W-9000-model-stdout com.amazonaws.ml.mms.wlm.WorkerLifeCycle - Model model loaded io_fd=0242acfffe120002-00000013-00000007-4e4c122884c66022-fa44a289\n",
      "\u001b[36m9okx4z1i9f-algo-1-tr7h2 |\u001b[0m 2021-08-02 18:35:38,029 [INFO ] W-9000-model-stdout com.amazonaws.ml.mms.wlm.WorkerLifeCycle - Hi I'm called once\n",
      "\u001b[36m9okx4z1i9f-algo-1-tr7h2 |\u001b[0m 2021-08-02 18:35:38,030 [INFO ] W-9000-model-stdout com.amazonaws.ml.mms.wlm.WorkerLifeCycle - Model model loaded io_fd=0242acfffe120002-00000013-00000009-5b9d922884c66022-3a87078a\n",
      "\u001b[36m9okx4z1i9f-algo-1-tr7h2 |\u001b[0m 2021-08-02 18:35:38,030 [INFO ] W-9000-model-stdout com.amazonaws.ml.mms.wlm.WorkerLifeCycle - Hi I'm called once\n",
      "\u001b[36m9okx4z1i9f-algo-1-tr7h2 |\u001b[0m 2021-08-02 18:35:38,030 [INFO ] W-9000-model-stdout com.amazonaws.ml.mms.wlm.WorkerLifeCycle - Model model loaded io_fd=0242acfffe120002-00000013-00000001-62e8222884c66022-a46e88ea\n",
      "\u001b[36m9okx4z1i9f-algo-1-tr7h2 |\u001b[0m 2021-08-02 18:35:38,030 [INFO ] W-9000-model-stdout com.amazonaws.ml.mms.wlm.WorkerLifeCycle - Hi I'm called once\n",
      "\u001b[36m9okx4z1i9f-algo-1-tr7h2 |\u001b[0m 2021-08-02 18:35:38,030 [INFO ] W-9000-model-stdout com.amazonaws.ml.mms.wlm.WorkerLifeCycle - Model model loaded io_fd=0242acfffe120002-00000013-00000003-710aa22884c66022-64b7cdfb\n",
      "\u001b[36m9okx4z1i9f-algo-1-tr7h2 |\u001b[0m 2021-08-02 18:35:38,030 [INFO ] W-9000-model-stdout com.amazonaws.ml.mms.wlm.WorkerLifeCycle - Hi I'm called once\n",
      "\u001b[36m9okx4z1i9f-algo-1-tr7h2 |\u001b[0m 2021-08-02 18:35:38,030 [INFO ] W-9000-model-stdout com.amazonaws.ml.mms.wlm.WorkerLifeCycle - Model model loaded io_fd=0242acfffe120002-00000013-00000005-7c59622884c66022-23e5e405\n",
      "\u001b[36m9okx4z1i9f-algo-1-tr7h2 |\u001b[0m 2021-08-02 18:35:38,033 [INFO ] W-9000-model com.amazonaws.ml.mms.wlm.WorkerThread - Backend response time: 16\n",
      "\u001b[36m9okx4z1i9f-algo-1-tr7h2 |\u001b[0m 2021-08-02 18:35:38,034 [INFO ] W-9000-model com.amazonaws.ml.mms.wlm.WorkerThread - Backend response time: 13\n",
      "\u001b[36m9okx4z1i9f-algo-1-tr7h2 |\u001b[0m 2021-08-02 18:35:38,035 [INFO ] W-9000-model com.amazonaws.ml.mms.wlm.WorkerThread - Backend response time: 15\n",
      "\u001b[36m9okx4z1i9f-algo-1-tr7h2 |\u001b[0m 2021-08-02 18:35:38,035 [INFO ] W-9000-model com.amazonaws.ml.mms.wlm.WorkerThread - Backend response time: 14\n",
      "\u001b[36m9okx4z1i9f-algo-1-tr7h2 |\u001b[0m 2021-08-02 18:35:38,035 [INFO ] W-9000-model com.amazonaws.ml.mms.wlm.WorkerThread - Backend response time: 13\n",
      "\u001b[36m9okx4z1i9f-algo-1-tr7h2 |\u001b[0m 2021-08-02 18:35:38,035 [INFO ] W-9000-model com.amazonaws.ml.mms.wlm.WorkerThread - Backend response time: 13\n",
      "\u001b[36m9okx4z1i9f-algo-1-tr7h2 |\u001b[0m 2021-08-02 18:35:38,035 [INFO ] W-9000-model com.amazonaws.ml.mms.wlm.WorkerThread - Backend response time: 15\n",
      "\u001b[36m9okx4z1i9f-algo-1-tr7h2 |\u001b[0m 2021-08-02 18:35:38,035 [INFO ] W-9000-model com.amazonaws.ml.mms.wlm.WorkerThread - Backend response time: 15\n",
      "\u001b[36m9okx4z1i9f-algo-1-tr7h2 |\u001b[0m 2021-08-02 18:35:38,035 [INFO ] W-9000-model com.amazonaws.ml.mms.wlm.WorkerThread - Backend response time: 14\n",
      "\u001b[36m9okx4z1i9f-algo-1-tr7h2 |\u001b[0m 2021-08-02 18:35:38,036 [INFO ] W-9000-model com.amazonaws.ml.mms.wlm.WorkerThread - Backend response time: 15\n",
      "\u001b[36m9okx4z1i9f-algo-1-tr7h2 |\u001b[0m 2021-08-02 18:35:38,036 [INFO ] W-9000-model com.amazonaws.ml.mms.wlm.WorkerThread - Backend response time: 15\n",
      "\u001b[36m9okx4z1i9f-algo-1-tr7h2 |\u001b[0m 2021-08-02 18:35:38,036 [INFO ] W-9000-model com.amazonaws.ml.mms.wlm.WorkerThread - Backend response time: 16\n",
      "\u001b[36m9okx4z1i9f-algo-1-tr7h2 |\u001b[0m 2021-08-02 18:35:38,037 [WARN ] W-9000-model com.amazonaws.ml.mms.wlm.WorkerLifeCycle - attachIOStreams() threadName=W-model-12\n",
      "\u001b[36m9okx4z1i9f-algo-1-tr7h2 |\u001b[0m 2021-08-02 18:35:38,037 [WARN ] W-9000-model com.amazonaws.ml.mms.wlm.WorkerLifeCycle - attachIOStreams() threadName=W-model-2\n",
      "\u001b[36m9okx4z1i9f-algo-1-tr7h2 |\u001b[0m 2021-08-02 18:35:38,037 [WARN ] W-9000-model com.amazonaws.ml.mms.wlm.WorkerLifeCycle - attachIOStreams() threadName=W-model-11\n",
      "\u001b[36m9okx4z1i9f-algo-1-tr7h2 |\u001b[0m 2021-08-02 18:35:38,037 [WARN ] W-9000-model com.amazonaws.ml.mms.wlm.WorkerLifeCycle - attachIOStreams() threadName=W-model-5\n",
      "\u001b[36m9okx4z1i9f-algo-1-tr7h2 |\u001b[0m 2021-08-02 18:35:38,037 [WARN ] W-9000-model com.amazonaws.ml.mms.wlm.WorkerLifeCycle - attachIOStreams() threadName=W-model-4\n",
      "\u001b[36m9okx4z1i9f-algo-1-tr7h2 |\u001b[0m 2021-08-02 18:35:38,037 [WARN ] W-9000-model com.amazonaws.ml.mms.wlm.WorkerLifeCycle - attachIOStreams() threadName=W-model-9\n",
      "\u001b[36m9okx4z1i9f-algo-1-tr7h2 |\u001b[0m 2021-08-02 18:35:38,038 [WARN ] W-9000-model com.amazonaws.ml.mms.wlm.WorkerLifeCycle - attachIOStreams() threadName=W-model-1\n",
      "\u001b[36m9okx4z1i9f-algo-1-tr7h2 |\u001b[0m 2021-08-02 18:35:38,038 [WARN ] W-9000-model com.amazonaws.ml.mms.wlm.WorkerLifeCycle - attachIOStreams() threadName=W-model-7\n",
      "\u001b[36m9okx4z1i9f-algo-1-tr7h2 |\u001b[0m 2021-08-02 18:35:38,038 [WARN ] W-9000-model com.amazonaws.ml.mms.wlm.WorkerLifeCycle - attachIOStreams() threadName=W-model-10\n",
      "\u001b[36m9okx4z1i9f-algo-1-tr7h2 |\u001b[0m 2021-08-02 18:35:38,038 [WARN ] W-9000-model com.amazonaws.ml.mms.wlm.WorkerLifeCycle - attachIOStreams() threadName=W-model-6\n",
      "\u001b[36m9okx4z1i9f-algo-1-tr7h2 |\u001b[0m 2021-08-02 18:35:38,038 [WARN ] W-9000-model com.amazonaws.ml.mms.wlm.WorkerLifeCycle - attachIOStreams() threadName=W-model-3\n",
      "\u001b[36m9okx4z1i9f-algo-1-tr7h2 |\u001b[0m 2021-08-02 18:35:38,038 [WARN ] W-9000-model com.amazonaws.ml.mms.wlm.WorkerLifeCycle - attachIOStreams() threadName=W-model-8\n",
      "\u001b[36m9okx4z1i9f-algo-1-tr7h2 |\u001b[0m 2021-08-02 18:35:41,538 [INFO ] pool-1-thread-14 ACCESS_LOG - /172.18.0.1:49642 \"GET /ping HTTP/1.1\" 200 7\n",
      "!"
     ]
    }
   ],
   "metadata": {}
  },
  {
   "cell_type": "markdown",
   "source": [
    "## 2. Inference"
   ],
   "metadata": {}
  },
  {
   "cell_type": "code",
   "execution_count": 5,
   "source": [
    "from sagemaker.serializers import NumpySerializer, JSONSerializer, CSVSerializer\n",
    "from sagemaker.deserializers import NumpyDeserializer, JSONDeserializer"
   ],
   "outputs": [],
   "metadata": {}
  },
  {
   "cell_type": "code",
   "execution_count": 6,
   "source": [
    "predictor = Predictor(\n",
    "    endpoint_name=model1.endpoint_name,\n",
    "    sagemaker_session=model1.sagemaker_session,\n",
    "    serializer=JSONSerializer(),\n",
    "    # serializer=JSONSerializer(),\n",
    ")"
   ],
   "outputs": [],
   "metadata": {}
  },
  {
   "cell_type": "code",
   "execution_count": 7,
   "source": [
    "data = {\n",
    "    \"text\":\"Hello world! I like pizza! How about you?\",\n",
    "    \"n_sent\":1\n",
    "}\n",
    "\n",
    "str(data)\n",
    "\n",
    "import json\n",
    "# json.dumps(data)\n",
    "\n",
    "response = predictor.predict(json.dumps(data), target_model=\"model1.tar.gz\")"
   ],
   "outputs": [
    {
     "output_type": "stream",
     "name": "stdout",
     "text": [
      "\u001b[36m9okx4z1i9f-algo-1-tr7h2 |\u001b[0m 2021-08-02 18:35:41,884 [INFO ] W-model-12-stdout com.amazonaws.ml.mms.wlm.WorkerLifeCycle - Hi I'm called once\n",
      "\u001b[36m9okx4z1i9f-algo-1-tr7h2 |\u001b[0m 2021-08-02 18:35:41,884 [INFO ] W-9000-model com.amazonaws.ml.mms.wlm.WorkerThread - Backend response time: 3\n",
      "\u001b[36m9okx4z1i9f-algo-1-tr7h2 |\u001b[0m 2021-08-02 18:35:41,884 [INFO ] W-model-12-stdout com.amazonaws.ml.mms.wlm.WorkerLifeCycle - reruned\n",
      "\u001b[36m9okx4z1i9f-algo-1-tr7h2 |\u001b[0m 2021-08-02 18:35:41,884 [INFO ] W-model-12-stdout com.amazonaws.ml.mms.wlm.WorkerLifeCycle - reruned here \n",
      "\u001b[36m9okx4z1i9f-algo-1-tr7h2 |\u001b[0m 2021-08-02 18:35:41,884 [INFO ] W-9000-model ACCESS_LOG - /172.18.0.1:49650 \"POST /invocations HTTP/1.1\" 200 5\n"
     ]
    }
   ],
   "metadata": {}
  }
 ],
 "metadata": {
  "kernelspec": {
   "name": "python3",
   "display_name": "Python 3.6.13 64-bit ('sagemaker': conda)"
  },
  "language_info": {
   "codemirror_mode": {
    "name": "ipython",
    "version": 3
   },
   "file_extension": ".py",
   "mimetype": "text/x-python",
   "name": "python",
   "nbconvert_exporter": "python",
   "pygments_lexer": "ipython3",
   "version": "3.6.13"
  },
  "interpreter": {
   "hash": "2b92654d3804d544d24a83bb7bb71ab4b721d7836c1f06bebfa1febee9c35033"
  }
 },
 "nbformat": 4,
 "nbformat_minor": 4
}